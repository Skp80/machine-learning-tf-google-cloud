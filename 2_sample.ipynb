{
 "cells": [
  {
   "cell_type": "markdown",
   "metadata": {},
   "source": [
    "<h1> 2. Creating a sampled dataset </h1>\n",
    "\n",
    "This notebook illustrates:\n",
    "<ol>\n",
    "<li> Sampling a BigQuery dataset to create datasets for ML\n",
    "<li> Preprocessing with Pandas\n",
    "</ol>"
   ]
  },
  {
   "cell_type": "code",
   "execution_count": 23,
   "metadata": {},
   "outputs": [],
   "source": [
    "# change these to try this notebook out\n",
    "BUCKET = 'qwiklabs-gcp-e3c7c5953a85dc99'\n",
    "PROJECT = 'qwiklabs-gcp-e3c7c5953a85dc99'\n",
    "REGION = 'us-central1'"
   ]
  },
  {
   "cell_type": "code",
   "execution_count": 24,
   "metadata": {},
   "outputs": [],
   "source": [
    "import os\n",
    "os.environ['BUCKET'] = BUCKET\n",
    "os.environ['PROJECT'] = PROJECT\n",
    "os.environ['REGION'] = REGION"
   ]
  },
  {
   "cell_type": "code",
   "execution_count": 25,
   "metadata": {},
   "outputs": [],
   "source": [
    "%%bash\n",
    "if ! gsutil ls | grep -q gs://${BUCKET}/; then\n",
    "  gsutil mb -l ${REGION} gs://${BUCKET}\n",
    "fi"
   ]
  },
  {
   "cell_type": "markdown",
   "metadata": {},
   "source": [
    "<h2> Create ML dataset by sampling using BigQuery </h2>\n",
    "<p>\n",
    "Let's sample the BigQuery data to create smaller datasets.\n",
    "</p>"
   ]
  },
  {
   "cell_type": "code",
   "execution_count": 47,
   "metadata": {},
   "outputs": [],
   "source": [
    "# Create SQL query using natality data after the year 2000\n",
    "import google.datalab.bigquery as bq\n",
    "query = \"\"\"\n",
    "SELECT\n",
    "  weight_pounds,\n",
    "  is_male,\n",
    "  mother_age,\n",
    "  plurality,\n",
    "  gestation_weeks,\n",
    "  ABS(FARM_FINGERPRINT(CONCAT(CAST(YEAR AS STRING), CAST(month AS STRING)))) AS hashmonth\n",
    "FROM\n",
    "  publicdata.samples.natality\n",
    "WHERE year > 2000\n",
    "\"\"\""
   ]
  },
  {
   "cell_type": "markdown",
   "metadata": {},
   "source": [
    "## Lab Task #1\n",
    "\n",
    "Sample the BigQuery resultset (above) so that you have approximately 12,000 training examples and 3000 evaluation examples.\n",
    "The training and evaluation datasets have to be well-distributed (not all the babies are born in Jan 2005, for example)\n",
    "and should not overlap (no baby is part of both training and evaluation datasets).\n",
    "\n",
    "Hint (highlight to see): <p style='color:white'>You will use MOD() on the hashmonth to divide the dataset into non-overlapping training and evaluation datasets, and RAND() to sample these to the desired size.</p>"
   ]
  },
  {
   "cell_type": "code",
   "execution_count": 48,
   "metadata": {},
   "outputs": [
    {
     "name": "stdout",
     "output_type": "stream",
     "text": [
      "There are 96 unique hashmonths.\n"
     ]
    },
    {
     "data": {
      "text/html": [
       "<div>\n",
       "<style scoped>\n",
       "    .dataframe tbody tr th:only-of-type {\n",
       "        vertical-align: middle;\n",
       "    }\n",
       "\n",
       "    .dataframe tbody tr th {\n",
       "        vertical-align: top;\n",
       "    }\n",
       "\n",
       "    .dataframe thead th {\n",
       "        text-align: right;\n",
       "    }\n",
       "</style>\n",
       "<table border=\"1\" class=\"dataframe\">\n",
       "  <thead>\n",
       "    <tr style=\"text-align: right;\">\n",
       "      <th></th>\n",
       "      <th>hashmonth</th>\n",
       "      <th>num_babies</th>\n",
       "    </tr>\n",
       "  </thead>\n",
       "  <tbody>\n",
       "    <tr>\n",
       "      <th>0</th>\n",
       "      <td>5896567601480310696</td>\n",
       "      <td>342825</td>\n",
       "    </tr>\n",
       "    <tr>\n",
       "      <th>1</th>\n",
       "      <td>9068386407968572094</td>\n",
       "      <td>330863</td>\n",
       "    </tr>\n",
       "    <tr>\n",
       "      <th>2</th>\n",
       "      <td>260598435387740869</td>\n",
       "      <td>320332</td>\n",
       "    </tr>\n",
       "    <tr>\n",
       "      <th>3</th>\n",
       "      <td>2700219941840496344</td>\n",
       "      <td>307395</td>\n",
       "    </tr>\n",
       "    <tr>\n",
       "      <th>4</th>\n",
       "      <td>454960867574323744</td>\n",
       "      <td>346515</td>\n",
       "    </tr>\n",
       "  </tbody>\n",
       "</table>\n",
       "</div>"
      ],
      "text/plain": [
       "             hashmonth  num_babies\n",
       "0  5896567601480310696      342825\n",
       "1  9068386407968572094      330863\n",
       "2   260598435387740869      320332\n",
       "3  2700219941840496344      307395\n",
       "4   454960867574323744      346515"
      ]
     },
     "execution_count": 48,
     "metadata": {},
     "output_type": "execute_result"
    }
   ],
   "source": [
    "# Call BigQuery but GROUP BY the hashmonth and see number of records for each group to enable us to get the correct train and evaluation percentages\n",
    "df = bq.Query(\"SELECT hashmonth, COUNT(weight_pounds) AS num_babies FROM (\" + query + \") GROUP BY hashmonth\").execute().result().to_dataframe()\n",
    "print(\"There are {} unique hashmonths.\".format(len(df)))\n",
    "df.head()"
   ]
  },
  {
   "cell_type": "code",
   "execution_count": 74,
   "metadata": {},
   "outputs": [
    {
     "name": "stdout",
     "output_type": "stream",
     "text": [
      "There are 12052 examples in the train dataset and 3035 in the eval dataset\n"
     ]
    }
   ],
   "source": [
    "# Added the RAND() so that we can now subsample from each of the hashmonths to get approximately the record counts we want\n",
    "trainQuery = \"SELECT * FROM (\" + query + \") WHERE MOD(hashmonth, 4) < 3 AND RAND() < 0.000452\"\n",
    "evalQuery = \"SELECT * FROM (\" + query + \") WHERE MOD(hashmonth, 4) = 3 AND RAND() < 0.000452\"\n",
    "traindf = bq.Query(trainQuery).execute().result().to_dataframe()\n",
    "evaldf = bq.Query(evalQuery).execute().result().to_dataframe()\n",
    "print(\"There are {} examples in the train dataset and {} in the eval dataset\".format(len(traindf), len(evaldf)))"
   ]
  },
  {
   "cell_type": "markdown",
   "metadata": {},
   "source": [
    "## Lab Task #2\n",
    "\n",
    "Use Pandas to:\n",
    "* Clean up the data to remove rows that are missing any of the fields.\n",
    "* Simulate the lack of ultrasound.\n",
    "* Change the plurality column to be a string.\n",
    "\n",
    "Hint (highlight to see): <p>\n",
    "Filtering:\n",
    "<pre style='color:white'>\n",
    "df = df[df.weight_pounds > 0]\n",
    "</pre>\n",
    "Lack of ultrasound:\n",
    "<pre style='color:white'>\n",
    "nous = df.copy(deep=True)\n",
    "nous['is_male'] = 'Unknown'\n",
    "</pre>\n",
    "Modify plurality to be a string:\n",
    "<pre style='color:white'>\n",
    "twins_etc = dict(zip([1,2,3,4,5],\n",
    "                   ['Single(1)', 'Twins(2)', 'Triplets(3)', 'Quadruplets(4)', 'Quintuplets(5)']))\n",
    "df['plurality'].replace(twins_etc, inplace=True)\n",
    "</pre>\n",
    "</p>"
   ]
  },
  {
   "cell_type": "code",
   "execution_count": 75,
   "metadata": {},
   "outputs": [],
   "source": [
    "import pandas as pd\n",
    "def preprocess(df):\n",
    "  df = df[df.weight_pounds > 0]\n",
    "  df = df[df.mother_age > 0]\n",
    "  df = df[df.gestation_weeks > 0]\n",
    "  df = df[df.plurality > 0]\n",
    "\n",
    "  nous = df.copy(deep=True)\n",
    "  #nous.loc[nous['plurality'] != 'Single(1)', 'plurality'] = 'Multiple(2+)'\n",
    "  nous['is_male'] = 'Unknown'\n",
    "\n",
    "  twins_etc = dict(zip([1,2,3,4,5],\n",
    "                     ['Single(1)', 'Twins(2)', 'Triplets(3)', 'Quadruplets(4)', 'Quintuplets(5)']))\n",
    "  df['plurality'].replace(twins_etc, inplace=True)\n",
    "  \n",
    "  return pd.concat([df, nous])"
   ]
  },
  {
   "cell_type": "code",
   "execution_count": 76,
   "metadata": {},
   "outputs": [
    {
     "data": {
      "text/html": [
       "<div>\n",
       "<style scoped>\n",
       "    .dataframe tbody tr th:only-of-type {\n",
       "        vertical-align: middle;\n",
       "    }\n",
       "\n",
       "    .dataframe tbody tr th {\n",
       "        vertical-align: top;\n",
       "    }\n",
       "\n",
       "    .dataframe thead th {\n",
       "        text-align: right;\n",
       "    }\n",
       "</style>\n",
       "<table border=\"1\" class=\"dataframe\">\n",
       "  <thead>\n",
       "    <tr style=\"text-align: right;\">\n",
       "      <th></th>\n",
       "      <th>weight_pounds</th>\n",
       "      <th>is_male</th>\n",
       "      <th>mother_age</th>\n",
       "      <th>plurality</th>\n",
       "      <th>gestation_weeks</th>\n",
       "      <th>hashmonth</th>\n",
       "    </tr>\n",
       "  </thead>\n",
       "  <tbody>\n",
       "    <tr>\n",
       "      <th>0</th>\n",
       "      <td>6.856376</td>\n",
       "      <td>False</td>\n",
       "      <td>34</td>\n",
       "      <td>Single(1)</td>\n",
       "      <td>36.0</td>\n",
       "      <td>5742197815970064689</td>\n",
       "    </tr>\n",
       "    <tr>\n",
       "      <th>1</th>\n",
       "      <td>8.187968</td>\n",
       "      <td>True</td>\n",
       "      <td>31</td>\n",
       "      <td>Single(1)</td>\n",
       "      <td>40.0</td>\n",
       "      <td>3408502330831153141</td>\n",
       "    </tr>\n",
       "    <tr>\n",
       "      <th>2</th>\n",
       "      <td>9.812775</td>\n",
       "      <td>False</td>\n",
       "      <td>37</td>\n",
       "      <td>Single(1)</td>\n",
       "      <td>41.0</td>\n",
       "      <td>5742197815970064689</td>\n",
       "    </tr>\n",
       "    <tr>\n",
       "      <th>3</th>\n",
       "      <td>8.313632</td>\n",
       "      <td>True</td>\n",
       "      <td>36</td>\n",
       "      <td>Single(1)</td>\n",
       "      <td>38.0</td>\n",
       "      <td>7604198770453299557</td>\n",
       "    </tr>\n",
       "    <tr>\n",
       "      <th>4</th>\n",
       "      <td>8.437091</td>\n",
       "      <td>False</td>\n",
       "      <td>34</td>\n",
       "      <td>Single(1)</td>\n",
       "      <td>40.0</td>\n",
       "      <td>328012383083104805</td>\n",
       "    </tr>\n",
       "  </tbody>\n",
       "</table>\n",
       "</div>"
      ],
      "text/plain": [
       "   weight_pounds is_male  mother_age  plurality  gestation_weeks  \\\n",
       "0       6.856376   False          34  Single(1)             36.0   \n",
       "1       8.187968    True          31  Single(1)             40.0   \n",
       "2       9.812775   False          37  Single(1)             41.0   \n",
       "3       8.313632    True          36  Single(1)             38.0   \n",
       "4       8.437091   False          34  Single(1)             40.0   \n",
       "\n",
       "             hashmonth  \n",
       "0  5742197815970064689  \n",
       "1  3408502330831153141  \n",
       "2  5742197815970064689  \n",
       "3  7604198770453299557  \n",
       "4   328012383083104805  "
      ]
     },
     "execution_count": 76,
     "metadata": {},
     "output_type": "execute_result"
    }
   ],
   "source": [
    "traindf = preprocess(traindf)\n",
    "evaldf = preprocess(evaldf)\n",
    "traindf.head()"
   ]
  },
  {
   "cell_type": "markdown",
   "metadata": {},
   "source": [
    "## Lab Task #3\n",
    "\n",
    "Write the cleaned out data into CSV files.  Change the name of the Pandas dataframes (traindf, evaldf) appropriately.\n",
    "\n"
   ]
  },
  {
   "cell_type": "code",
   "execution_count": 77,
   "metadata": {},
   "outputs": [],
   "source": [
    "traindf.to_csv('train.csv', index=False, header=False)\n",
    "evaldf.to_csv('eval.csv', index=False, header=False)"
   ]
  },
  {
   "cell_type": "code",
   "execution_count": 78,
   "metadata": {},
   "outputs": [
    {
     "name": "stdout",
     "output_type": "stream",
     "text": [
      "   6022 eval.csv\n",
      "  23910 train.csv\n",
      "  29932 total\n",
      "==> eval.csv <==\n",
      "6.1729433359999994,True,24,Single(1),36.0,1088037545023002395\n",
      "7.1870697412,False,27,Single(1),39.0,7146494315947640619\n",
      "6.4992274837599995,True,36,Single(1),31.0,6244544205302024223\n",
      "7.24879917456,True,24,Single(1),41.0,6782146986770280327\n",
      "7.826410301,True,35,Single(1),38.0,7146494315947640619\n",
      "6.93794738514,False,26,Single(1),39.0,6910174677251748583\n",
      "8.50102482272,True,33,Single(1),40.0,8904940584331855459\n",
      "8.24969784404,True,28,Single(1),39.0,270792696282171059\n",
      "10.06189763768,False,35,Single(1),40.0,7517141034410775575\n",
      "5.732018812,False,34,Single(1),34.0,1639186255933990135\n",
      "\n",
      "==> train.csv <==\n",
      "6.8563763481999995,False,34,Single(1),36.0,5742197815970064689\n",
      "8.18796841068,True,31,Single(1),40.0,3408502330831153141\n",
      "9.81277528162,False,37,Single(1),41.0,5742197815970064689\n",
      "8.313631900019999,True,36,Single(1),38.0,7604198770453299557\n",
      "8.437090766739999,False,34,Single(1),40.0,328012383083104805\n",
      "8.2452885988,True,31,Single(1),39.0,8599690069971956834\n",
      "5.5005334369,False,28,Single(1),42.0,8599690069971956834\n",
      "8.3334735036,False,18,Single(1),39.0,7586701093880244808\n",
      "5.74965579296,False,32,Single(1),39.0,7773938200482214258\n",
      "7.605948039,False,39,Single(1),39.0,411066950820961322\n",
      "==> eval.csv <==\n",
      "6.3162438063,Unknown,38,1,39.0,1639186255933990135\n",
      "6.4374980503999994,Unknown,24,1,40.0,6910174677251748583\n",
      "8.313631900019999,Unknown,24,1,45.0,4740473290291881219\n",
      "7.06140625186,Unknown,35,1,37.0,6392072535155213407\n",
      "8.1460805809,Unknown,33,1,35.0,2246942437170405963\n",
      "8.2893810512,Unknown,23,1,40.0,4740473290291881219\n",
      "8.375361333379999,Unknown,27,1,38.0,74931465496927487\n",
      "6.93794738514,Unknown,17,1,39.0,1569531340167098963\n",
      "6.3382900325,Unknown,38,1,43.0,6392072535155213407\n",
      "5.1257475915,Unknown,23,1,34.0,270792696282171059\n",
      "\n",
      "==> train.csv <==\n",
      "6.06050758238,Unknown,24,1,38.0,2768780346491825728\n",
      "8.0248263368,Unknown,23,1,41.0,7420272703711713305\n",
      "5.8973655085,Unknown,20,1,40.0,1305143018446161857\n",
      "6.1244416383599996,Unknown,18,1,35.0,7108882242435606404\n",
      "6.9996768185,Unknown,28,1,38.0,2126480030009879160\n",
      "7.68751907594,Unknown,16,1,39.0,4331749811015213748\n",
      "9.25059651352,Unknown,27,1,36.0,260598435387740869\n",
      "9.87450471498,Unknown,31,1,38.0,5960947298512945432\n",
      "8.12623897732,Unknown,30,1,40.0,1002950341933487066\n",
      "7.81318256528,Unknown,18,1,39.0,6637442812569910270\n"
     ]
    }
   ],
   "source": [
    "%bash\n",
    "wc -l *.csv\n",
    "head *.csv\n",
    "tail *.csv"
   ]
  },
  {
   "cell_type": "markdown",
   "metadata": {},
   "source": [
    "Copyright 2017-2018 Google Inc. Licensed under the Apache License, Version 2.0 (the \"License\"); you may not use this file except in compliance with the License. You may obtain a copy of the License at http://www.apache.org/licenses/LICENSE-2.0 Unless required by applicable law or agreed to in writing, software distributed under the License is distributed on an \"AS IS\" BASIS, WITHOUT WARRANTIES OR CONDITIONS OF ANY KIND, either express or implied. See the License for the specific language governing permissions and limitations under the License"
   ]
  }
 ],
 "metadata": {
  "kernelspec": {
   "display_name": "Python 3",
   "language": "python",
   "name": "python3"
  },
  "language_info": {
   "codemirror_mode": {
    "name": "ipython",
    "version": 3
   },
   "file_extension": ".py",
   "mimetype": "text/x-python",
   "name": "python",
   "nbconvert_exporter": "python",
   "pygments_lexer": "ipython3",
   "version": "3.5.6"
  }
 },
 "nbformat": 4,
 "nbformat_minor": 2
}
